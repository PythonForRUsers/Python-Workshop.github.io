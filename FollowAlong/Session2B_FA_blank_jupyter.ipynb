{
 "cells": [
  {
   "cell_type": "markdown",
   "metadata": {},
   "source": [
    "---\n",
    "title: \"Data Structures Activity Session 2 #2\"\n",
    "author: \"Python Group\"\n",
    "---\n"
   ]
  },
  {
   "cell_type": "markdown",
   "metadata": {},
   "source": [
    "## Try It Yourself 3:\n",
    "\n",
    "Exercise: Exploring and Manipulating Cancer Data\n",
    "\n",
    "\n",
    "## 1. Load and Explore the Data\n",
    "\n",
    "Load the Dataset: Load the cancer dataset and display the first five rows.\n",
    "View Basic Information: Check the shape of the dataset, column names, and summary statistics to understand the structure and types of data."
   ]
  },
  {
   "cell_type": "code",
   "execution_count": null,
   "metadata": {},
   "outputs": [],
   "source": [
    "### Insert code here"
   ]
  },
  {
   "cell_type": "markdown",
   "metadata": {},
   "source": [
    "## 2. Column Selection and Row Selection\n",
    "\n",
    "Select Columns: Select the columns texture_mean, smoothness_mean, and symmetry_mean and create a new DataFrame called texture_smoothness_symmetry.\n",
    "\n",
    "Select Rows by Index: Use loc to select the rows with indexes 100 to 105 from texture_smoothness_symmetry and display them."
   ]
  },
  {
   "cell_type": "code",
   "execution_count": null,
   "metadata": {},
   "outputs": [],
   "source": [
    "### insert code here"
   ]
  },
  {
   "cell_type": "markdown",
   "metadata": {},
   "source": [
    "## 3. Filtering Data\n",
    "\n",
    "Filter by Condition: Filter the original DataFrame to include only rows where compactness_mean is greater than 0.2 and create a new DataFrame called high_compactness_data.\n",
    "\n",
    "Count the Results: Display the number of rows in high_compactness_data to see how many rows meet this condition."
   ]
  },
  {
   "cell_type": "code",
   "execution_count": null,
   "metadata": {},
   "outputs": [],
   "source": [
    "### insert code here"
   ]
  },
  {
   "cell_type": "markdown",
   "metadata": {},
   "source": [
    "## 4. Selecting Data with .loc and .iloc\n",
    "\n",
    "Using .loc for Label-Based Selection: Use .loc to select rows with indexes 10 to 15 and columns radius_mean, texture_mean, and smoothness_mean. Save this as subset_loc.\n",
    "\n",
    "Using .iloc for Position-Based Selection: Use .iloc to select the first 10 rows and the first 3 columns of the dataset. Save this as subset_iloc."
   ]
  },
  {
   "cell_type": "code",
   "execution_count": null,
   "metadata": {},
   "outputs": [],
   "source": [
    "### insert code here"
   ]
  },
  {
   "cell_type": "markdown",
   "metadata": {},
   "source": [
    "## 5 Adding and Modifying Columns\n",
    "\n",
    "Add a New Column: Calculate the texture_area_ratio by dividing texture_mean by area_mean. \n",
    "\n",
    "Add this as a new column in the original DataFrame."
   ]
  },
  {
   "cell_type": "code",
   "execution_count": null,
   "metadata": {},
   "outputs": [],
   "source": [
    "## insert code here"
   ]
  },
  {
   "cell_type": "markdown",
   "metadata": {},
   "source": [
    "### Applying Functions to Columns\n",
    "Create a Risk Category: Use apply() to create a new column, risk_category, based on radius_mean:  \n",
    "* If radius_mean is less than 10, label it as \"Low Risk\".  \n",
    "* If radius_mean is between 10 and 15, label it as \"Moderate Risk\".  \n",
    "* If radius_mean is greater than 15, label it as \"High Risk\".  "
   ]
  },
  {
   "cell_type": "code",
   "execution_count": 1,
   "metadata": {},
   "outputs": [],
   "source": [
    "## insert code here"
   ]
  }
 ],
 "metadata": {
  "kernelspec": {
   "display_name": "python-intro-env",
   "language": "python",
   "name": "python3"
  },
  "language_info": {
   "codemirror_mode": {
    "name": "ipython",
    "version": 3
   },
   "file_extension": ".py",
   "mimetype": "text/x-python",
   "name": "python",
   "nbconvert_exporter": "python",
   "pygments_lexer": "ipython3",
   "version": "3.10.15"
  }
 },
 "nbformat": 4,
 "nbformat_minor": 4
}
