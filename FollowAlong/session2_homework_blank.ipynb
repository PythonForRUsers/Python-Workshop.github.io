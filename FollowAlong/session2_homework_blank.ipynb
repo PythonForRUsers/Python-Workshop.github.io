{
  "cells": [
    {
      "cell_type": "markdown",
      "metadata": {},
      "source": [
        "---\n",
        "title: \"Data Structures Activity Session 2\"\n",
        "author: \"Python Group\"\n",
        "---\n",
        "\n",
        "## Try it yourself 1: Working with Strings and Lists in Python\n",
        "Objective:\n",
        "\n",
        "Apply your knowledge of Python strings and lists to solve the following problems. These tasks will test your understanding of string manipulation, list operations, and basic Python programming.\n",
        "\n",
        "Part 1: String Manipulation\n",
        "Create a string variable called sentence that contains the following text:\n",
        "\n",
        "\"Python is a powerful and easy to learn programming language.\""
      ]
    },
    {
      "cell_type": "code",
      "execution_count": null,
      "metadata": {},
      "outputs": [],
      "source": []
    },
    {
      "cell_type": "markdown",
      "metadata": {},
      "source": [
        "a. Use string slicing to extract and print the word \"powerful\"."
      ]
    },
    {
      "cell_type": "code",
      "execution_count": null,
      "metadata": {},
      "outputs": [],
      "source": []
    },
    {
      "cell_type": "markdown",
      "metadata": {},
      "source": [
        "b. Convert the entire sentence to uppercase and print the result."
      ]
    },
    {
      "cell_type": "code",
      "execution_count": null,
      "metadata": {},
      "outputs": [],
      "source": []
    },
    {
      "cell_type": "markdown",
      "metadata": {},
      "source": [
        "c. Replace the word \"powerful\" with \"versatile\" and print the new sentence."
      ]
    },
    {
      "cell_type": "code",
      "execution_count": null,
      "metadata": {},
      "outputs": [],
      "source": []
    },
    {
      "cell_type": "markdown",
      "metadata": {},
      "source": [
        "Part 2: Working with Lists\n",
        "List Creation:\n",
        "\n",
        "a. Convert the sentence you created in Part 1 into a list of words (split by spaces) and store it in a variable called words_list. Print the list to verify the result."
      ]
    },
    {
      "cell_type": "code",
      "execution_count": null,
      "metadata": {},
      "outputs": [],
      "source": []
    },
    {
      "cell_type": "markdown",
      "metadata": {},
      "source": [
        "b. Print the length of the list."
      ]
    },
    {
      "cell_type": "code",
      "execution_count": null,
      "metadata": {},
      "outputs": [],
      "source": []
    },
    {
      "cell_type": "markdown",
      "metadata": {},
      "source": [
        "c. Print the first and last words from the list."
      ]
    },
    {
      "cell_type": "code",
      "execution_count": null,
      "metadata": {},
      "outputs": [],
      "source": []
    },
    {
      "cell_type": "markdown",
      "metadata": {},
      "source": [
        "Part 3: List Operations and String Comprehension\n",
        "Combining Strings and Lists:\n",
        "\n",
        "\n",
        "a. Use list comprehension to create a new list called short_words that contains only the words from words_list that are 4 characters or shorter."
      ]
    },
    {
      "cell_type": "code",
      "execution_count": null,
      "metadata": {},
      "outputs": [],
      "source": []
    },
    {
      "cell_type": "markdown",
      "metadata": {},
      "source": [
        "b. Join all the words in short_words into a single string, where the words are separated by commas, and print the result."
      ]
    },
    {
      "cell_type": "markdown",
      "metadata": {},
      "source": [
        "Part 4: Reversing and Sorting:\n",
        "\n",
        "\n",
        "a. Create a reversed version of words_list and print it."
      ]
    },
    {
      "cell_type": "code",
      "execution_count": null,
      "metadata": {},
      "outputs": [],
      "source": []
    },
    {
      "cell_type": "markdown",
      "metadata": {},
      "source": [
        "b. Sort the list alphabetically and print the sorted list. Why does 'Python' appear first?"
      ]
    },
    {
      "cell_type": "code",
      "execution_count": null,
      "metadata": {},
      "outputs": [],
      "source": []
    },
    {
      "cell_type": "markdown",
      "metadata": {},
      "source": [
        "c. Using list comprehension, create a new list called vowel_words that contains only the words from words_list that start with a vowel (a, e, i, o, u). Print the result."
      ]
    },
    {
      "cell_type": "code",
      "execution_count": null,
      "metadata": {},
      "outputs": [],
      "source": []
    },
    {
      "cell_type": "markdown",
      "metadata": {},
      "source": [
        "## Try It Yourself 2: Counting Genetic Mutations Across Patients\n",
        "\n",
        "\n",
        "In this exercise, you’ll use Python dictionaries to count the number of patients with specific genetic mutations. This is a common data analysis task in cancer research, where we often want to identify the frequency of mutations across a patient cohort.\n",
        "\n",
        "\n",
        "1. Define a dictionary named mutation_data where each key is a patient ID and the value is a list of mutations observed in that patient. This is already done for you, just run the code."
      ]
    },
    {
      "cell_type": "code",
      "execution_count": null,
      "metadata": {},
      "outputs": [],
      "source": [
        "# Create a dictionary to store mutation data for each patient\n",
        "mutation_data = {\n",
        "    'P001': ['BRAF', 'TP53'],\n",
        "    'P002': ['BRCA1'],\n",
        "    'P003': ['EGFR', 'ALK'],\n",
        "    'P004': ['BRAF', 'BRCA1']\n",
        "}\n",
        "\n",
        "# Print the dictionary to check your data\n",
        "print(\"Mutation data:\", mutation_data)\n"
      ]
    },
    {
      "cell_type": "markdown",
      "metadata": {},
      "source": [
        "2. Create an empty dictionary called mutation_counts that will be used to store each mutation as a key and the number of occurrences as the value."
      ]
    },
    {
      "cell_type": "code",
      "execution_count": null,
      "metadata": {},
      "outputs": [],
      "source": []
    },
    {
      "cell_type": "markdown",
      "metadata": {},
      "source": [
        "3. Now, loop through each patient’s mutations in mutation_data. For each mutation:\n",
        "\n",
        "    If it already exists in mutation_counts, increase its count by 1.\n",
        "    \n",
        "    If it doesn’t exist in mutation_counts, add it with an initial count of 1."
      ]
    },
    {
      "cell_type": "code",
      "execution_count": null,
      "metadata": {},
      "outputs": [],
      "source": []
    },
    {
      "cell_type": "code",
      "execution_count": null,
      "metadata": {},
      "outputs": [],
      "source": [
        "# Print the mutation counts to verify your results\n",
        "print(\"Mutation Counts:\", mutation_counts)"
      ]
    },
    {
      "cell_type": "markdown",
      "metadata": {},
      "source": [
        "Expected Output\n",
        "After completing this exercise, your output should look like this:"
      ]
    },
    {
      "cell_type": "code",
      "execution_count": null,
      "metadata": {},
      "outputs": [],
      "source": [
        "print(\"Mutation Counts: {'BRAF': 2, 'TP53': 1, 'BRCA1': 2, 'EGFR': 1, 'ALK': 1}\")\n"
      ]
    },
    {
      "cell_type": "markdown",
      "metadata": {},
      "source": [
        "## Try It Yourself 3: Counting Genetic Mutations Across Patients Tumor Mutational Burden (TMB) Classification\n",
        "\n",
        "\n",
        "Problem:\n",
        "Write a function classify_tmb(score) that takes in a tumor mutational burden (TMB) score — a float representing mutations per megabase (mut/Mb) — and returns a classification:\n",
        "\n",
        "TMB < 5: \"Low\"\n",
        "\n",
        "5 ≤ TMB < 10: \"Intermediate\"\n",
        "\n",
        "TMB ≥ 10: \"High\"\n",
        "\n",
        "Example Input:"
      ]
    },
    {
      "cell_type": "code",
      "execution_count": null,
      "metadata": {},
      "outputs": [],
      "source": [
        "# classify_tmb(12.3)"
      ]
    },
    {
      "cell_type": "markdown",
      "metadata": {},
      "source": [
        "Expected Output:"
      ]
    },
    {
      "cell_type": "code",
      "execution_count": null,
      "metadata": {},
      "outputs": [],
      "source": [
        "# 'High'"
      ]
    },
    {
      "cell_type": "code",
      "execution_count": null,
      "metadata": {},
      "outputs": [],
      "source": []
    }
  ],
  "metadata": {
    "kernelspec": {
      "display_name": "Python_course",
      "language": "python",
      "name": "python3"
    },
    "language_info": {
      "codemirror_mode": {
        "name": "ipython",
        "version": 3
      },
      "file_extension": ".py",
      "mimetype": "text/x-python",
      "name": "python",
      "nbconvert_exporter": "python",
      "pygments_lexer": "ipython3",
      "version": "3.12.7"
    }
  },
  "nbformat": 4,
  "nbformat_minor": 4
}
