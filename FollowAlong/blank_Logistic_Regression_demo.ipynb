{
 "cells": [
  {
   "cell_type": "raw",
   "metadata": {},
   "source": [
    "---\n",
    "title: \"Python Logistic Regression Demo\"\n",
    "author: \"Python Group\"\n",
    "format: \n",
    "    html:\n",
    "        output-file: \"session3.html\"\n",
    "        toc: true\n",
    "        code-copy: true\n",
    "        code-line-numbers: true\n",
    "        link-external-icon: false\n",
    "        link-external-newwindow: true\n",
    "---"
   ]
  },
  {
   "cell_type": "markdown",
   "metadata": {},
   "source": [
    "# Welcome to session 4!\n",
    "\n",
    "This is the follow-along file for session 4: Logistic Regression Demo. The answers to the fill-in-the-blanks are on the website!\n",
    "\n",
    "**In this session, we are going to walk through data cleaning, visualization and two different ways of building a logistic regression model.**\n",
    "\n",
    "We are using the **same dataset** as in session 3! There is no need to re-download it!\n",
    "\n",
    "## Getting Started\n",
    "\n",
    "Before doing anything else, we should first activate the conda environment we want to use. If you created the 'python-intro-env' environment, please use that. \n",
    "\n",
    "**Refresher: How to activate conda environment**\n",
    "\n",
    "From terminal, type:\n",
    "\n",
    "```{bash}\n",
    "conda activate python-intro-env\n",
    "```\n",
    "\n",
    "\n",
    "When in VS code, you might get a popup message like the one below, confirming that the environment was activated:\n",
    "*Selected conda environment was successfully activated, even though \"(ENVNAME)\" indicator may not be present in the terminal prompt.*\n",
    "\n",
    "or\n",
    "\n",
    "In Anaconda Navagator, click on the **Environments** tab on the left and select the environment you want to activate. Just selecting the environment should activate it.\n",
    "\n",
    "**Refresher: How to install packages**\n",
    "\n",
    "To install packages, we can either use the \"anaconda\" dashboard, or we can use the command line. Make sure your environment is active before installing packages or the packages will not be available in your environment.\n",
    "\n",
    "To install from the command line, we open a terminal and type:\n",
    "\n",
    "```{bash}\n",
    "conda install {package}\n",
    "```\n",
    "or\n",
    "\n",
    "```{bash}\n",
    "pip install {package}\n",
    "```\n",
    "When working with conda environments, it's best practice to install everything with conda and only use pip for packages that are not available through conda!\n",
    "\n",
    "**If you are using the 'python-intro-env' environment, you may need to install the 'statsmodels' package if you have not already installed it.**\n",
    "\n",
    "**Statsmodels can be installed via conda install so:**\n",
    "\n",
    "```{bash}\n",
    "conda install statsmodels\n",
    "```\n",
    "\n",
    "### Checking installed packages\n",
    "If we want to make sure we have the packages we'll need installed in the environment before we try to import them, we can either check on anaconda or use the terminal:\n",
    "\n",
    "```{bash}\n",
    "conda list\n",
    "```\n",
    "\n",
    "Otherwise, we will get an error message if we try to import packages that are not installed.\n",
    "\n",
    "We can also check for a specific package, like pandas, with `conda list {package}.\n",
    "\n",
    "# Now we are ready to get started!\n",
    "\n",
    "Our goals for this session are:  \n",
    "1. Practice the **pandas** skills we covered last session  \n",
    "2. Get familiar with plotting in python using **seaborn** and **matplotlib**  \n",
    "3. Understand how to create and evaluate models using **Statsmodels** and **scikit-learn**  \n",
    "\n",
    "## Step 1: Import Packages\n",
    "\n",
    "Similar to `library()` in R, we’ll use `import` in Python. Fill in the blanks to import the necessary packages:"
   ]
  },
  {
   "cell_type": "code",
   "execution_count": null,
   "metadata": {},
   "outputs": [],
   "source": [
    "# | eval: false\n",
    "import pandas as ___\n",
    "import numpy as ___\n",
    "import seaborn as ___\n",
    "import matplotlib.pyplot as ___\n",
    "\n",
    "import statsmodels.api as __\n",
    "import statsmodels.formula.api as ___\n",
    "\n",
    "# Import from sklearn\n",
    "from sklearn.model_selection import ___\n",
    "from sklearn.preprocessing import ____\n",
    "from sklearn.decomposition import ___\n",
    "\n",
    "\n",
    "from sklearn.linear_model import ___\n",
    "\n",
    "from sklearn.pipeline import Pipeline\n",
    "from sklearn.metrics import accuracy_score, roc_curve, auc\n",
    "from sklearn.feature_selection import SelectKBest, f_classif\n",
    "\n",
    "# Import display from IPython to allow display of plots in notebook\n",
    "from IPython.display import display"
   ]
  },
  {
   "cell_type": "markdown",
   "metadata": {},
   "source": [
    "## Step 2: Read in Data and Perform Data Cleaning\n",
    "\n",
    "We can use the `read_csv()` function from the pandas package to read in the dataset."
   ]
  },
  {
   "cell_type": "code",
   "execution_count": null,
   "metadata": {},
   "outputs": [],
   "source": [
    "#| eval: false\n",
    "data = pd.read_csv(\"__________\")"
   ]
  },
  {
   "cell_type": "markdown",
   "metadata": {},
   "source": [
    "We can use the `.info()` function to show some basic information about the dataset like:\\\n",
    "\\* the number of rows\\\n",
    "\\* number of columns\\\n",
    "\\* column labels\\\n",
    "\\* column type\\\n",
    "\\* number of non-null values in each column"
   ]
  },
  {
   "cell_type": "code",
   "execution_count": null,
   "metadata": {},
   "outputs": [],
   "source": [
    "#| eval: false\n",
    "data._______()"
   ]
  },
  {
   "cell_type": "markdown",
   "metadata": {},
   "source": [
    "From the *info*, we can see that the column types make sense and most of the columns have no missing values.\n",
    "\n",
    "We do have this extra column called \"Unnamed: 32\" with 0 non-null values... so let's drop it (remove it from the dataframe). We can also replace spaces in column names with \"\\_\", which will be useful later."
   ]
  },
  {
   "cell_type": "code",
   "execution_count": null,
   "metadata": {},
   "outputs": [],
   "source": [
    "# | eval: false\n",
    "data.drop(columns=\"Unnamed: 32\", inplace=______)\n",
    "data.columns = data.columns.str.replace(\"?\", \"?\")\n",
    "# Check that the column was removed and column names were changed.\n",
    "print(data.info())"
   ]
  },
  {
   "cell_type": "markdown",
   "metadata": {},
   "source": [
    "The column was successfully removed!\n",
    "\n",
    "Now, we can use `.head(5)` to show the first 5 rows of the dataset (rows 0-4). Remember that the first row is \"0\" not \"1\"!"
   ]
  },
  {
   "cell_type": "code",
   "execution_count": null,
   "metadata": {},
   "outputs": [],
   "source": [
    "data.head(5)"
   ]
  },
  {
   "cell_type": "markdown",
   "metadata": {},
   "source": [
    "### Recoding a Variable\n",
    "\n",
    "For our logistic regression, the diagnosis column, which is our outcome of interest, should be 0, 1 not B, M. To fix this, we can use a *dictionary* and `.map()`. We could also use a lambda function like we did in Session 3, but dictionaries can be more convenient if there are more than 2 values to be recoded."
   ]
  },
  {
   "cell_type": "code",
   "execution_count": null,
   "metadata": {},
   "outputs": [],
   "source": [
    "#| eval: false\n",
    "## define a dictionary\n",
    "y_recode = {\"B\": ___, \"M\": ___}\n",
    "\n",
    "## use .map to locate the keys in the column and replace with values\n",
    "data[\"diagnosis\"] = data[\"diagnosis\"].map(________)\n",
    "\n",
    "data.head(5)"
   ]
  },
  {
   "cell_type": "markdown",
   "metadata": {},
   "source": [
    "### Creating Descriptive Plots\n",
    "\n",
    "Creating plots in python is similar to using ggplot in R, but there are some syntactic differences. The two most popular plotting packages in python are `matplotlib` and `seaborn`.\n",
    "\n",
    "Matplotlib is a low-level plotting package, and seaborn is built on top of it. Therefore, you can use many matplotlib methods with seaborn plot objects.\n",
    "\n",
    "#### Building a plot\n",
    "\n",
    "When building a plot in python, you start with a 'figure' object and an 'axis' object. \n",
    "\n",
    "Data is plotted onto 'axis' objects. Axis objects sit on top of figure objects, which can be saved to variables and displayed later. \n",
    "\n",
    "Things like titles and legends are also associated with the 'axis' object, not the 'figure' object.\n",
    "\n",
    "You can create figures using `plt.figure()`, with additional arguments for things like figure size. Then, you can add an axis object to the figure using fig.add_subplot()."
   ]
  },
  {
   "cell_type": "code",
   "execution_count": null,
   "metadata": {},
   "outputs": [],
   "source": [
    "#| eval: false\n",
    "fig = plt.figure()\n",
    "ax = fig.add_subplot()"
   ]
  },
  {
   "cell_type": "markdown",
   "metadata": {},
   "source": [
    "#### Example: Building a count plot of diagnoses using seaborn\n",
    "\n",
    "We can look at the number of each diagnosis reflected in the dataset in a plot using `seaborn`. \n",
    "\n",
    "To do this, we can first construct our 'figure' and 'axis' objects. "
   ]
  },
  {
   "cell_type": "code",
   "execution_count": null,
   "metadata": {
    "dpi": 600
   },
   "outputs": [],
   "source": [
    "#| eval: false\n",
    "fig = ___\n",
    "ax = ___"
   ]
  },
  {
   "cell_type": "markdown",
   "metadata": {},
   "source": [
    "Then, we can create our 'count plot', which is similar to a barplot in ggplot, and assign it to the 'axis' object we just made. \n",
    "\n",
    "We can also set the title of the axis object using the `.set_title()` method. \n",
    "\n",
    "If we want to display the plot, we have to use `display()` if we are working with a quarto document or a jupyter notebook. If we are working with a regular python script, we use fig.show()."
   ]
  },
  {
   "cell_type": "code",
   "execution_count": null,
   "metadata": {},
   "outputs": [],
   "source": [
    "# | eval: false\n",
    "sns.countplot(x=\"_________\", hue=\"_________\", data=______, ax=__)\n",
    "ax.set_title(\"Distribution of Diagnoses\")\n",
    "\n",
    "___(___)"
   ]
  },
  {
   "cell_type": "markdown",
   "metadata": {},
   "source": [
    "#### Changing plot attributes\n",
    "\n",
    "If we want, we can change the colors of the plot. To make the plot a bit more useful, we can also change the y-scale from \"count\" to \"percentage\" and add labels so it is clear what \"0\" and \"1\" mean. \n",
    "\n",
    "To help us pick colors, we can use `sns.color_palette()` which will display an image with the colors in the palette. "
   ]
  },
  {
   "cell_type": "code",
   "execution_count": null,
   "metadata": {},
   "outputs": [],
   "source": [
    "sns.color_palette(\"colorblind\")"
   ]
  },
  {
   "cell_type": "markdown",
   "metadata": {},
   "source": [
    "To change the colors of our plot, we can make a dictionary with the values of 'diagnosis' as keys and the hexcodes of the colors we want to use as values. \n",
    "\n",
    "We can get the hex codes of colors from a seaborn palette using `sns.color_palette().as_hex()`."
   ]
  },
  {
   "cell_type": "code",
   "execution_count": null,
   "metadata": {
    "message": false
   },
   "outputs": [],
   "source": [
    "#| eval: false\n",
    "color_hex = sns.color_palette(\"colorblind\")._____\n",
    "\n",
    "print(\"The hexcodes for the 'colorblind' palette are:\\n\", ____)\n",
    "\n",
    "## if we want to make the columns green for benign and yellow for malignant\n",
    "\n",
    "## the \"-\" lets us index from the end of the list rather than the front. However, the '-1'th position is the last position (there is no '-0')\n",
    "\n",
    "colors = {0: color_hex[__], 1: color_hex[__]}"
   ]
  },
  {
   "cell_type": "markdown",
   "metadata": {},
   "source": [
    "We then create the plot and tell seaborn to use 'colors' as the palette for the graph. We can also change the 'stat' to be \"percent\", which can be more interpretable than raw counts.\n",
    "\n",
    "We can also change the xtick labels to be \"Benign\" and \"Malignant\" instead of \"0\" and \"1\". \n",
    "\n",
    "We will also change the axis labels and set a title. Once we make these changes, we can show the finished plot."
   ]
  },
  {
   "cell_type": "code",
   "execution_count": null,
   "metadata": {},
   "outputs": [],
   "source": [
    "# | eval: false\n",
    "fig2 = plt.figure()\n",
    "ax2 = fig2.add_subplot()\n",
    "\n",
    "sns.countplot(\n",
    "    x=\"___\", hue=\"___\", stat=\"___\", data=data, palette=colors, legend=False, ax=ax2\n",
    ")\n",
    "\n",
    "## change the xticklabels to benign and malignant\n",
    "ax2.set_xticks([0, 1])\n",
    "ax2.set_xticklabels([\"___\", \"\"])\n",
    "\n",
    "## change the axes labels and title\n",
    "ax2.set(xlabel=\"___\", ylabel=\"___\", title=\"Distribution of Diagnoses\")\n",
    "\n",
    "## add legend\n",
    "ax2.legend(title=\"Diagnosis\", loc=\"upper right\", labels=[\"Benign\", \"Malignant\"])\n",
    "\n",
    "display(fig2)"
   ]
  },
  {
   "cell_type": "markdown",
   "metadata": {},
   "source": [
    "#### Correlation Heatmap\n",
    "\n",
    "If we wanted to, we could also make a correlation heatmap of our features using `.corr()` and `sns.heatmap()`. \n",
    "\n",
    "For this, all of our columns must be numeric, and we should remove the 'id' column as it is not useful for correlation. We use `.select_dtypes()` to select only the numeric columns from the dataset."
   ]
  },
  {
   "cell_type": "code",
   "execution_count": null,
   "metadata": {},
   "outputs": [],
   "source": [
    "# | eval: false\n",
    "## set figure size\n",
    "fig3 = plt.figure(figsize=(20, 20))\n",
    "ax3 = fig3.add_subplot()\n",
    "numeric_data = data.select_dtypes(include=___)\n",
    "\n",
    "## drop id column\n",
    "numeric_data.drop(columns=___, inplace=___)\n",
    "\n",
    "\n",
    "## use corr function and seaborn heatmap to create correlation heatmap\n",
    "## 'fmt' allows us to choose the number display format for the heatmap\n",
    "\n",
    "sns.heatmap(numeric_data.___, annot=True, fmt=\".2f\", cmap=\"coolwarm\", ax=ax3)\n",
    "\n",
    "## set plot title and show plot\n",
    "ax3.set_title(\"Feature Correlation Heatmap\")\n",
    "\n",
    "display(fig3)"
   ]
  },
  {
   "cell_type": "markdown",
   "metadata": {},
   "source": [
    "## Step 4: Creating a Logistic Regression Model\n",
    "\n",
    "Here we will explore two methods for creating a logistic regression model. The first, statsmodels, is more similar to R and is more user-friendly for statistical purposes. The second, scikit-learn, is more useful for machine learning and prediction models, but is a framework that is worth learning if you are going to use python often.\n",
    "\n",
    "### Method 1: Statsmodels\n",
    "\n",
    "The <a href=\"https://www.statsmodels.org/stable/index.html\">statsmodels package</a> is a python package for creating statistical models, conducting tests and performing data exploration. It is similar to packages used in R and creates an r-like model summary.\n",
    "\n",
    "If we wanted to see if higher values of area_mean and texture_mean are associated with increased odds of malignancy, we can use `smf.logit()` to fit a logistic regression model."
   ]
  },
  {
   "cell_type": "code",
   "execution_count": null,
   "metadata": {},
   "outputs": [],
   "source": [
    "# | eval: false\n",
    "logit = smf.logit(\"___ ~ ___ + ___\", data=data).fit()\n",
    "\n",
    "print(logit.summary())"
   ]
  },
  {
   "cell_type": "markdown",
   "metadata": {},
   "source": [
    "### Method 2: Scikit-learn\n",
    "\n",
    "The <a href=\"https://scikit-learn.org/stable/index.html\">scikit-learn pacakge</a> is geared towards machine-learning and prediction-related tasks like classification, clustering and dimensionality reduction.\n",
    "\n",
    "Fitting models with scikit-learn is a bit more complex than with statsmodels but is more along the lines of what most python projects will require.\n",
    "\n",
    "Instead of fitting a logistic regression model on the full dataset like we did with statsmodels, this time we are going to fit on a subset of our data and create a prediction model. We will test this prediction model on the remainder of the dataset.\n",
    "\n",
    "### Splitting Training and Test Data\n",
    "\n",
    "To fit a prediction model with sci-kit learn...\n",
    "\n",
    "We first need to split the dataset into X (predictors/features) and y (outcomes). Then we use the `train_test_split()` function to split these datasets into a training dataset and a test dataset.\n",
    "\n",
    "We use the .loc function and \":\" to select all rows and any columns including and after \"radius_mean\", and we assign these columns to x. This excludes the \"diagnosis\" and \"id\" columns.\n",
    "\n",
    "We set y as simply the diagnosis column.\n",
    "\n",
    "When splitting our dataset, we can define 'test_size' which is the proportion of the data that will be set aside for testing the model. We can also set a random_state.\n",
    "\n",
    "::: {style=\"border-left: 4px solid #007bff; background-color: #f8f9fa; padding: 5px; margin: 5px 0;\"}\n",
    "Unlike R, Python allows for multi-argument returns from functions. This lets us assign each returned object to a different variable to be used later!\n",
    ":::"
   ]
  },
  {
   "cell_type": "code",
   "execution_count": null,
   "metadata": {},
   "outputs": [],
   "source": [
    "#| eval: false\n",
    "X = data.loc[:, \"___\"::]\n",
    "\n",
    "## set only the diagnosis column as \"y\"\n",
    "y = data.loc[:, \"___\"]\n",
    "\n",
    "## here we assign each object returned from `train_test_split` to a different variable\n",
    "## we can use test_size to set the proportion of the dataset reserved for testing\n",
    "X_?, X_?, y_?, y_? = train_test_split(\n",
    "    X, y, test_size=0.2, random_state=42\n",
    ")\n",
    "\n",
    "X_train.head(3)"
   ]
  },
  {
   "cell_type": "markdown",
   "metadata": {},
   "source": [
    "### Scaling/Normalizing Data\n",
    "\n",
    "Because all of our features have different scales, we need to standardize (normalize) our dataset. We can do this by creating an instance of the `StandardScaler` class called \"scaler\" and fitting that to the training data. We then use the same \"scaler\" to scale the test dataset."
   ]
  },
  {
   "cell_type": "code",
   "execution_count": null,
   "metadata": {},
   "outputs": [],
   "source": [
    "#| eval: false\n",
    "## standardize dataset\n",
    "scaler = ___()\n",
    "\n",
    "## fit the scaler to the _ data\n",
    "scaler.fit(___)\n",
    "\n",
    "## apply the scaler to the _ data and _ data\n",
    "X_train = scaler.transform(___)\n",
    "X_test = scaler.transform(___)"
   ]
  },
  {
   "cell_type": "markdown",
   "metadata": {},
   "source": [
    "### After scaling the data, we can perform dimensional reduction with PCA\n",
    "\n",
    "PCA is often used for dimensional reduction with machine learning methods so we will demonstrate it here. We can set up the PCA transformer in the same way that we set the scaler above."
   ]
  },
  {
   "cell_type": "code",
   "execution_count": null,
   "metadata": {},
   "outputs": [],
   "source": [
    "# | eval: false\n",
    "## set up PCA transformer with the number of components you want and fit to training dataset\n",
    "pca = PCA(n_components=__)\n",
    "pca = pca.fit(___)\n",
    "\n",
    "## apply PCA transformer to training and test set\n",
    "X_train_pca = pca.transform(___)\n",
    "X_test_pca = pca.transform(___)"
   ]
  },
  {
   "cell_type": "markdown",
   "metadata": {},
   "source": [
    "#### We can get an idea of how well our PCA factors represent our data\n",
    "\n",
    "To do this, we can make a plot of the cumulative explained variance. \n",
    "\n",
    "If we just want to make a quick plot that we do not plan on displaying multiple times, we can skip explicitly setting figure and axis objects.\n",
    "\n",
    "Here we use `plt.plot()` from matplotlib to create a plot of the cumulative explained variance. We can use `plt.xlabel()` and `plt.ylabel()` **in the same code chunk** to set the labels for this plot.\n",
    "\n",
    "If we try to set the labels in a later chunk, we will get a blank plot. "
   ]
  },
  {
   "cell_type": "code",
   "execution_count": null,
   "metadata": {},
   "outputs": [],
   "source": [
    "## we can look at the cumulative explained variance\n",
    "plt.plot(np.cumsum(pca.explained_variance_ratio_))\n",
    "plt.xlabel(\"Number of Components\")\n",
    "plt.ylabel(\"Cumulative Explained Variance\")"
   ]
  },
  {
   "cell_type": "markdown",
   "metadata": {},
   "source": [
    "## Step 5: Model Setup\n",
    "\n",
    "Next we have to set up the model itself by creating an instance of the `LogisticRegression` model class."
   ]
  },
  {
   "cell_type": "code",
   "execution_count": null,
   "metadata": {},
   "outputs": [],
   "source": [
    "#| eval: false\n",
    "lr = ___"
   ]
  },
  {
   "cell_type": "markdown",
   "metadata": {},
   "source": [
    "Then, we can fit this model to the training data."
   ]
  },
  {
   "cell_type": "code",
   "execution_count": null,
   "metadata": {},
   "outputs": [],
   "source": [
    "#| eval: false\n",
    "## fit to training data\n",
    "lr.___(X_train_pca, y_train)"
   ]
  },
  {
   "cell_type": "markdown",
   "metadata": {},
   "source": [
    "## Step 6: Look At Results\n",
    "\n",
    "Once the model is fit, we can use it to predict the outcome (diagnosis) based on the features of the test data.\n",
    "\n",
    "### Store Results in a Dataframe\n",
    "\n",
    "We can use `pd.DataFrame()` to create an empty pandas dataframe that we can fill with our results."
   ]
  },
  {
   "cell_type": "code",
   "execution_count": null,
   "metadata": {},
   "outputs": [],
   "source": [
    "#| eval: false\n",
    "## use model to predict test data\n",
    "## set up dataframe to review results\n",
    "results = pd.___\n",
    "\n",
    "## get predicted\n",
    "results.loc[:, 'Predicted']= lr.___(___)\n",
    "\n",
    "## get true y values for test dataset\n",
    "results.loc[:, 'Truth'] = ___.___\n",
    "\n",
    "## get probability of being malignant\n",
    "## the output is one probability per outcome, we only want the second outcome (malignant)\n",
    "results.loc[:, 'Probability: Malignant'] = pd.DataFrame(lr.___(X_test_pca))[_]\n",
    "\n",
    "results.head(5)"
   ]
  },
  {
   "cell_type": "markdown",
   "metadata": {},
   "source": [
    "We can also get a quantitative \"accuracy score\" that will give us an idea of how well our model predicts our outcomes."
   ]
  },
  {
   "cell_type": "code",
   "execution_count": null,
   "metadata": {},
   "outputs": [],
   "source": [
    "accuracy = accuracy_score(results[\"Truth\"], results[\"Predicted\"])\n",
    "\n",
    "print(\"Accuracy: {:.2f}%\".format(accuracy * 100))"
   ]
  },
  {
   "cell_type": "markdown",
   "metadata": {},
   "source": [
    "### Create ROC curve\n",
    "\n",
    "As a figure, we can create an ROC curve and use quarto chunk options to add a figure caption. \n",
    "\n",
    "Like we did for the cumulative variance plot, this time we will skip setting up named figure and axis objects. Instead, we will first create a 'working figure' of size 8x6 and add plots on top of that. Any 'plt.plot()' instances we create in this chunk will be overlayed on the working figure object. \n",
    "\n",
    "If we were working in a python script rather than a quarto document, we would need to use plt.show() at the end to display the figure. "
   ]
  },
  {
   "cell_type": "code",
   "execution_count": null,
   "metadata": {},
   "outputs": [],
   "source": [
    "# | fig-cap: An ROC curve for our logistic regression model\n",
    "# | eval: false\n",
    "\n",
    "## make a plot to vizualize the ROC curve\n",
    "\n",
    "## get false pos rate, true pos rate and thresholds\n",
    "## there are 3 outputs so we need 3 variables to catch them\n",
    "___, ___, ___ = roc_curve(results[\"Truth\"], results[\"Predicted\"])\n",
    "\n",
    "## get AUC data\n",
    "roc_auc = auc(___, ___)\n",
    "\n",
    "## set up plot\n",
    "plt.figure(figsize=(8, 6))\n",
    "\n",
    "## using matplotlib this time, create line plot with 2pt line weight\n",
    "## add \"ROC Curve (AUC = AUC)\" as label for orange line\n",
    "## .2f is for display formatting, lw is linewidth\n",
    "plt.plot(__, __, color=\"darkorange\", lw=2, label=f\"ROC Curve (AUC = {roc_auc:.2f})\")\n",
    "\n",
    "## create another curve, this time blue with a dashed line labeled \"Random\"\n",
    "## as in random chance.\n",
    "plt.plot([0, 1], [0, 1], color=\"navy\", lw=2, linestyle=\"--\", label=\"Random\")\n",
    "\n",
    "## add xlabel, ylabel and title\n",
    "plt.xlabel(\"False Positive Rate\")\n",
    "plt.ylabel(\"True Positive Rate\")\n",
    "plt.title(\n",
    "    \"Receiver Operating Characteristic (ROC) Curve\\nAccuracy: {:.2f}%\".format(\n",
    "        accuracy * 100\n",
    "    )\n",
    ")\n",
    "\n",
    "## add legend and show plot\n",
    "plt.legend(loc=\"lower right\")\n"
   ]
  },
  {
   "cell_type": "markdown",
   "metadata": {},
   "source": [
    "Congratulations! You have successfully done logistic regression in Python!\n"
   ]
  }
 ],
 "metadata": {
  "kernelspec": {
   "display_name": "python-intro-env",
   "language": "python",
   "name": "python3"
  },
  "language_info": {
   "codemirror_mode": {
    "name": "ipython",
    "version": 3
   },
   "file_extension": ".py",
   "mimetype": "text/x-python",
   "name": "python",
   "nbconvert_exporter": "python",
   "pygments_lexer": "ipython3",
   "version": "3.10.15"
  }
 },
 "nbformat": 4,
 "nbformat_minor": 4
}
