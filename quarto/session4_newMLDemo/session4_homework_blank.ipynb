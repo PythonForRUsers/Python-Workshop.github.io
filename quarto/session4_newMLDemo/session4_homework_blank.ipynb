{
 "cells": [
  {
   "cell_type": "markdown",
   "metadata": {},
   "source": [
    "# Session 4 Homework\n",
    "\n",
    "For this assignment, you will be practicing both object oriented programming and creating models using scikit-learn. "
   ]
  },
  {
   "cell_type": "markdown",
   "metadata": {},
   "source": [
    "## Part A - Classes and Inheritence\n",
    "\n",
    "1. Create a mixin that adds the training level attribute and the .train() method to any Dog class. Feel free to add other fun attributes!"
   ]
  },
  {
   "cell_type": "code",
   "execution_count": null,
   "metadata": {
    "vscode": {
     "languageId": "python"
    }
   },
   "outputs": [],
   "source": [
    "class Dog:\n",
    "    def __init__(self, name, breed): ## sets up the initialization for an instance of class Dog. Allows us to assign name and breed when we instantiate dog. \n",
    "        self.name = name\n",
    "        self.breed = breed\n",
    "\n",
    "    def bark(self):\n",
    "        return f\"{self.name} says Woof!\"\n",
    "\n",
    "class TrainMixin: ## finish this class definition!!\n",
    "    def __init__(self, *args, **kwargs):\n",
    "        super().__init__(*args, **kwargs)  # Ensures proper initialization in multiple inheritance"
   ]
  },
  {
   "cell_type": "markdown",
   "metadata": {},
   "source": [
    "2. Create a new dog class called `BestDog` that has both tricks and training level (and any other attributes/methods you added). Show off your new dog's talents!"
   ]
  },
  {
   "cell_type": "markdown",
   "metadata": {},
   "source": [
    "## Part B - Using Machine Learning Modules\n",
    "\n",
    "Using the sklearn documentation as a reference (), pick a model not shown in the demo and use it to either cluster or classify irises from the iris dataset. ="
   ]
  },
  {
   "cell_type": "code",
   "execution_count": null,
   "metadata": {
    "vscode": {
     "languageId": "python"
    }
   },
   "outputs": [
    {
     "name": "stdout",
     "output_type": "stream",
     "text": [
      "Predictors:  [[5.1 3.5 1.4 0.2]\n",
      " [4.9 3.  1.4 0.2]\n",
      " [4.7 3.2 1.3 0.2]\n",
      " [4.6 3.1 1.5 0.2]\n",
      " [5.  3.6 1.4 0.2]\n",
      " [5.4 3.9 1.7 0.4]\n",
      " [4.6 3.4 1.4 0.3]\n",
      " [5.  3.4 1.5 0.2]\n",
      " [4.4 2.9 1.4 0.2]\n",
      " [4.9 3.1 1.5 0.1]]\n"
     ]
    }
   ],
   "source": [
    "## load the iris dataset\n",
    "from sklearn.datasets import load_iris\n",
    "iris = load_iris()\n",
    "X, y = iris.data, iris.target ## iris.data = the predictors (in array form), iris.target = the iris species\n",
    "\n",
    "## Check what the data looks like\n",
    "print(\"Predictors: \", X[0:10,], \"Targets\")\n",
    "\n",
    "## note: for the iris dataset, the feature names are stored in iris.feature_names"
   ]
  }
 ],
 "metadata": {
  "language_info": {
   "name": "plaintext"
  }
 },
 "nbformat": 4,
 "nbformat_minor": 2
}
