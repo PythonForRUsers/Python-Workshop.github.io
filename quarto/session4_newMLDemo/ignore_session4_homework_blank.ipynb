{
 "cells": [
  {
   "cell_type": "markdown",
   "metadata": {},
   "source": [
    "# Session 4 Homework\n",
    "\n",
    "For this homework you will get to practice defining and working with classes, and using models in python. "
   ]
  },
  {
   "cell_type": "markdown",
   "metadata": {},
   "source": [
    "## Part A - Classes and Inheritence\n",
    "\n",
    "1. Using the `Animal` base class below as a starting point\n",
    "2. Create a `Trainable` mixin that adds the ability to learn tricks to any animal class.\n",
    "3. Using the `Animal` base class and the `Trainable` mixin, create a class for your favorite household pet.\n",
    "4. Using the inherited methods of your `Pet` class, show off what your pet can do!\n",
    "\n",
    "**Bonus**: Add a `__str__()` and `__repr__()` method to your class!"
   ]
  },
  {
   "cell_type": "code",
   "execution_count": null,
   "metadata": {
    "vscode": {
     "languageId": "python"
    }
   },
   "outputs": [],
   "source": [
    "## Animal base class\n",
    "class Animal: ## class definition\n",
    "    def __init__(self, name, breed, sound):\n",
    "        self.name = name\n",
    "        self.breed = breed\n",
    "        self.sound = sound\n",
    "    \n",
    "    def speak(self): \n",
    "        return f\"{self.name} says {self.sound}!\""
   ]
  },
  {
   "cell_type": "code",
   "execution_count": null,
   "metadata": {
    "vscode": {
     "languageId": "python"
    }
   },
   "outputs": [],
   "source": [
    "## Create `Trainable` mixin\n",
    "class Trainable: ## mixin that adds trainability behaviors to animal class\n",
    "    def __init__(self, *args, **kwargs):\n",
    "        super().__init__(*args, **kwargs)\n",
    "        self. ## use this as a base to add your own attributes\n",
    "    \n",
    "    def dothing(self): ## use this as a base to create your own methods"
   ]
  },
  {
   "cell_type": "code",
   "execution_count": null,
   "metadata": {
    "vscode": {
     "languageId": "python"
    }
   },
   "outputs": [],
   "source": [
    "## Create Pet Class\n",
    "class Pet(Animal, Trainable):\n",
    "    def __init__(self, name, breed, sound, ???, ???, ???) ## add arguments here as needed\n",
    "        super().__init__(name, breed, sound) ## initialize Animal \n",
    "        Trainable.__init__(self) ## initialize Trainable"
   ]
  },
  {
   "cell_type": "code",
   "execution_count": null,
   "metadata": {
    "vscode": {
     "languageId": "python"
    }
   },
   "outputs": [],
   "source": [
    "## Show off your pet"
   ]
  },
  {
   "cell_type": "markdown",
   "metadata": {},
   "source": [
    "## Part B - Using Machine Learning Modules\n",
    "\n",
    "Using the sklearn documentation as a reference (), pick a model not shown in the demo and use it to either cluster or classify irises from the iris dataset. ="
   ]
  },
  {
   "cell_type": "code",
   "execution_count": null,
   "metadata": {
    "vscode": {
     "languageId": "python"
    }
   },
   "outputs": [
    {
     "name": "stdout",
     "output_type": "stream",
     "text": [
      "Predictors:  [[5.1 3.5 1.4 0.2]\n",
      " [4.9 3.  1.4 0.2]\n",
      " [4.7 3.2 1.3 0.2]\n",
      " [4.6 3.1 1.5 0.2]\n",
      " [5.  3.6 1.4 0.2]\n",
      " [5.4 3.9 1.7 0.4]\n",
      " [4.6 3.4 1.4 0.3]\n",
      " [5.  3.4 1.5 0.2]\n",
      " [4.4 2.9 1.4 0.2]\n",
      " [4.9 3.1 1.5 0.1]]\n"
     ]
    }
   ],
   "source": [
    "## load the iris dataset\n",
    "from sklearn.datasets import load_iris\n",
    "iris = load_iris()\n",
    "X, y = iris.data, iris.target ## iris.data = the predictors (in array form), iris.target = the iris species\n",
    "\n",
    "## Check what the data looks like\n",
    "print(\"Predictors: \", X[0:10,], \"Targets\", y[0:10])\n",
    "\n",
    "## note: for the iris dataset, the feature names are stored in iris.feature_names"
   ]
  }
 ],
 "metadata": {
  "language_info": {
   "name": "plaintext"
  }
 },
 "nbformat": 4,
 "nbformat_minor": 2
}
