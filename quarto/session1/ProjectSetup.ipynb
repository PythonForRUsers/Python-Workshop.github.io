{
 "cells": [
  {
   "cell_type": "markdown",
   "metadata": {
    "slideshow": {
     "slide_type": "slide"
    }
   },
   "source": [
    "---\n",
    "title: \"Session 1: Building Data Analysis Projects in Python\"\n",
    "author: \"Python Group\"\n",
    "---\n",
    "\n",
    "Welcome to the first session of the Introduction to Python Workshop series.\n",
    "\n",
    "In this session, we will review fundamental concepts of the Python language and some key components of building an interactive progromming ecosystem for Python programming (or programming in general). In the second half of this session, we will walk through steps of a reproducible workflow for Python data analysis project. We will create github version control and virtual environment for reproducibility. \n",
    "\n",
    "::: {.note}\n",
    "\n",
    "### Objectives\n",
    "\n",
    "-   Have Python and conda installed locally\n",
    "\n",
    "-   Set up Visual Studio Code to succesfully communicate with the python and conda virtual environment installations. \n",
    "\n",
    "-   Create a project folder for the workshop series from the template and activate the Python virtual environment from within it.\n",
    "\n",
    "-   Create a jupyter notebook and write Python code.\n",
    "\n",
    ":::"
   ]
  },
  {
   "cell_type": "markdown",
   "metadata": {
    "slideshow": {
     "slide_type": "slide"
    }
   },
   "source": [
    "## Before we start...\n",
    "\n",
    "Here is a list of the required software for the workshop. You need them installed to your computer for this session. *See this guide [Link] for details on the installation.*\n",
    "\n",
    "    -   **Miniconda**: [Download the Miniconda Installer](https://www.anaconda.com/download/success).\n",
    "\n",
    "    -   **VS Code**: [Download and install VS Code](https://code.visualstudio.com/download).\n",
    "\n",
    "    -   **Quarto**: [Install from the official website](https://quarto.org/docs/get-started/). we should first activate the conda environment we want to use.\n",
    "\n",
    "::: {.tip}\n",
    "\n",
    "We recommend that you install software and run through the tutorial on your MSK laptop or workstation.\n",
    "Using VDI is generally slow for downloading/installing large software files.\n",
    "\n",
    ":::"
   ]
  },
  {
   "cell_type": "markdown",
   "metadata": {
    "slideshow": {
     "slide_type": "slide"
    }
   },
   "source": [
    "## 1. Virtual Environments\n",
    "\n",
    "**Refresher: How to activate conda environment**\n",
    "\n",
    "From terminal, type:\n",
    "\n",
    "```{bash}\n",
    "conda activate python-intro-env\n",
    "```\n",
    "\n",
    "\n",
    "When in VS code, you might get a popup message like the one below, confirming that the environment was activated:  \n",
    "\n",
    "*Selected conda environment was successfully activated, even though \"(ENVNAME)\" indicator may not be present in the terminal prompt.*\n",
    "\n",
    "or\n",
    "\n",
    "In Anaconda Navagator, click on the **Environments** tab on the left and select the environment you want to activate. Just selecting the environment should activate it.  \n",
    "\n",
    "If we want to make sure we have the packages we'll need installed in the environment before we try to import them, we can either check on anaconda or use the terminal:  \n",
    "\n",
    "```{bash}\n",
    "conda list\n",
    "```\n",
    "\n",
    "Otherwise, we will get an error message if we try to import packages that are not installed.\n",
    "\n",
    "**Refresher: How to install packages**\n",
    "\n",
    "To install packages, we can either use the \"anaconda\" dashboard, or we can use the command line. Make sure your environment is active before installing packages or the packages will not be available in your environment.  \n",
    "\n",
    "To install from the command line, we open a terminal and type:\n",
    "\n",
    "```{bash}\n",
    "conda install {package}\n",
    "```\n",
    "or\n",
    "\n",
    "```{bash}\n",
    "pip install {package}\n",
    "```\n",
    "When working with conda environments, it's best practice to install everything with conda and only use pip for packages that are not available through conda!"
   ]
  }
 ],
 "metadata": {
  "kernelspec": {
   "display_name": "demoenv",
   "language": "python",
   "name": "python3"
  },
  "language_info": {
   "name": "python",
   "version": "3.12.7"
  }
 },
 "nbformat": 4,
 "nbformat_minor": 2
}
