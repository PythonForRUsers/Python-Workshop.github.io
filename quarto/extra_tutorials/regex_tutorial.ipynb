{
 "cells": [
  {
   "cell_type": "markdown",
   "metadata": {},
   "source": [
    "---\n",
    "title: \"Extra Tutorial: Regular Expressions in Python\"\n",
    "author: \"Python Group\"\n",
    "---\n",
    "\n",
    "In python, you can use the 're' package (re stands for 'regular expressions') and list comprehensions to replicate the behavior of the 'grep' command in R/Unix and search for patterns within text. \n",
    "\n",
    "To demonstrate how to use regular expressions in python, we will use the 'mpg' dataset that comes with the 'seaborn' package. \n",
    "\n",
    "Note: you will also need the 'tableone' package which can be installed via the '-conda-forge' channel.\n"
   ]
  },
  {
   "cell_type": "markdown",
   "metadata": {},
   "source": [
    "<hr style=\"border: none; border-top: 2px solid #007bff; width: 100%;\">"
   ]
  },
  {
   "cell_type": "code",
   "execution_count": null,
   "metadata": {},
   "outputs": [
    {
     "ename": "ImportError",
     "evalue": "cannot import name 'grep' from 'grepy' (c:\\Users\\vaithid1\\AppData\\Local\\anaconda3\\envs\\python-intro-env\\lib\\site-packages\\grepy\\__init__.py)",
     "output_type": "error",
     "traceback": [
      "\u001b[1;31m---------------------------------------------------------------------------\u001b[0m",
      "\u001b[1;31mImportError\u001b[0m                               Traceback (most recent call last)",
      "Cell \u001b[1;32mIn[46], line 6\u001b[0m\n\u001b[0;32m      4\u001b[0m \u001b[38;5;28;01mimport\u001b[39;00m \u001b[38;5;21;01mseaborn\u001b[39;00m \u001b[38;5;28;01mas\u001b[39;00m \u001b[38;5;21;01msns\u001b[39;00m\n\u001b[0;32m      5\u001b[0m \u001b[38;5;28;01mfrom\u001b[39;00m \u001b[38;5;21;01mtableone\u001b[39;00m \u001b[38;5;28;01mimport\u001b[39;00m TableOne\n\u001b[1;32m----> 6\u001b[0m \u001b[38;5;28;01mfrom\u001b[39;00m \u001b[38;5;21;01mgrepy\u001b[39;00m \u001b[38;5;28;01mimport\u001b[39;00m grep\n\u001b[0;32m      8\u001b[0m mpg \u001b[38;5;241m=\u001b[39m sns\u001b[38;5;241m.\u001b[39mload_dataset(\u001b[38;5;124m\"\u001b[39m\u001b[38;5;124mmpg\u001b[39m\u001b[38;5;124m\"\u001b[39m)\n\u001b[0;32m      9\u001b[0m \u001b[38;5;28mprint\u001b[39m(mpg\u001b[38;5;241m.\u001b[39mhead())\n",
      "\u001b[1;31mImportError\u001b[0m: cannot import name 'grep' from 'grepy' (c:\\Users\\vaithid1\\AppData\\Local\\anaconda3\\envs\\python-intro-env\\lib\\site-packages\\grepy\\__init__.py)"
     ]
    }
   ],
   "source": [
    "import re\n",
    "import pandas as pd\n",
    "import numpy as np\n",
    "import seaborn as sns\n",
    "from tableone import TableOne\n",
    "\n",
    "\n",
    "mpg = sns.load_dataset(\"mpg\")\n",
    "print(mpg.head())"
   ]
  },
  {
   "cell_type": "code",
   "execution_count": 35,
   "metadata": {},
   "outputs": [
    {
     "name": "stdout",
     "output_type": "stream",
     "text": [
      "<class 'pandas.core.frame.DataFrame'>\n",
      "RangeIndex: 398 entries, 0 to 397\n",
      "Data columns (total 9 columns):\n",
      " #   Column        Non-Null Count  Dtype  \n",
      "---  ------        --------------  -----  \n",
      " 0   mpg           398 non-null    float64\n",
      " 1   cylinders     398 non-null    int64  \n",
      " 2   displacement  398 non-null    float64\n",
      " 3   horsepower    392 non-null    float64\n",
      " 4   weight        398 non-null    int64  \n",
      " 5   acceleration  398 non-null    float64\n",
      " 6   model_year    398 non-null    int64  \n",
      " 7   origin        398 non-null    object \n",
      " 8   name          398 non-null    object \n",
      "dtypes: float64(4), int64(3), object(2)\n",
      "memory usage: 28.1+ KB\n"
     ]
    }
   ],
   "source": [
    "mpg.info()"
   ]
  },
  {
   "cell_type": "markdown",
   "metadata": {},
   "source": [
    "### Optional: Create a summary table using TableOne\n",
    "\n",
    "To get a better idea of our dataset, we can create a summary table using the 'tableone' package. "
   ]
  },
  {
   "cell_type": "code",
   "execution_count": 36,
   "metadata": {},
   "outputs": [
    {
     "name": "stdout",
     "output_type": "stream",
     "text": [
      "Continuous: ['mpg', 'displacement', 'horsepower', 'weight', 'acceleration', 'model_year'] \n",
      "Categorical: ['origin', 'cylinders'] \n",
      "\n",
      "\n",
      "MPG Summary:\n",
      "                                Missing         Overall\n",
      "n                                                  398\n",
      "mpg, mean (SD)                       0      23.5 (7.8)\n",
      "cylinders, n (%)        3                      4 (1.0)\n",
      "                        4                   204 (51.3)\n",
      "                        5                      3 (0.8)\n",
      "                        6                    84 (21.1)\n",
      "                        8                   103 (25.9)\n",
      "displacement, mean (SD)              0   193.4 (104.3)\n",
      "horsepower, mean (SD)                6    104.5 (38.5)\n",
      "weight, mean (SD)                    0  2970.4 (846.8)\n",
      "acceleration, mean (SD)              0      15.6 (2.8)\n",
      "model_year, mean (SD)                0      76.0 (3.7)\n",
      "origin, n (%)           europe               70 (17.6)\n",
      "                        japan                79 (19.8)\n",
      "                        usa                 249 (62.6)\n",
      "\n"
     ]
    }
   ],
   "source": [
    "continuous = [\"mpg\", \"displacement\", \"horsepower\", \"weight\", \"acceleration\", \"model_year\"]\n",
    "categorical = [\"origin\", \"cylinders\"]\n",
    "\n",
    "print(\"Continuous:\", continuous, \"\\nCategorical:\", categorical, \"\\n\\n\")\n",
    "\n",
    "table = TableOne(data=mpg, categorical=categorical, continuous=continuous, label_suffix=True)\n",
    "print(\"MPG Summary:\\n\", table)"
   ]
  },
  {
   "cell_type": "markdown",
   "metadata": {},
   "source": [
    "From the above summary table, we can see that we have both continuous and categorial variables, as well as some missing data. \n",
    "<hr style=\"border: none; border-top: 1px solid #f8f9fa; max-width: 950px;\">\n"
   ]
  },
  {
   "cell_type": "markdown",
   "metadata": {},
   "source": [
    "## 1. Filtering Rows with Matching Patterns using re.search()\n",
    "\n",
    "re.search() is _ and does _. \n",
    "\n",
    "#### Get list of cars with make 'ford'\n",
    "\n",
    "If we want to get a list of the cars with make 'ford' (equivalent to grep(\"ford\", mpg$name)):"
   ]
  },
  {
   "cell_type": "markdown",
   "metadata": {},
   "source": [
    "We can use mpg.loc[] plus a filter to select all names containing 'ford'. \n",
    "\n",
    "We create the filter using mpg['name'].apply() and a lambda function. "
   ]
  },
  {
   "cell_type": "code",
   "execution_count": 51,
   "metadata": {},
   "outputs": [
    {
     "data": {
      "text/plain": [
       "5             ford galaxie 500\n",
       "17               ford maverick\n",
       "25                   ford f250\n",
       "32                  ford pinto\n",
       "36             ford torino 500\n",
       "40            ford galaxie 500\n",
       "43    ford country squire (sw)\n",
       "48                ford mustang\n",
       "61         ford pinto runabout\n",
       "Name: name, dtype: object"
      ]
     },
     "execution_count": 51,
     "metadata": {},
     "output_type": "execute_result"
    }
   ],
   "source": [
    "mpg.loc[mpg['name'].apply(lambda x: re.search(\"ford\", x) is not None), \n",
    "        'name'][1:10]\n"
   ]
  },
  {
   "cell_type": "markdown",
   "metadata": {},
   "source": [
    "#### OR\n",
    "\n",
    "We can define our own grep function and use that!\n",
    "\n",
    "There is a file called 'greppy.py' in the downloadables folder on github. You can import that to get an r-like grep function. The function details are also included below. "
   ]
  },
  {
   "cell_type": "code",
   "execution_count": 93,
   "metadata": {},
   "outputs": [],
   "source": [
    "def grep(pattern, text, values=False, ignore_case=False):\n",
    "    # Compile the regex pattern with the ignore_case flag if enabled\n",
    "    flags = re.IGNORECASE if ignore_case else 0\n",
    "    regex = re.compile(pattern, flags)\n",
    "\n",
    "    if values:\n",
    "        # Return the matching lines\n",
    "        return [line for line in text if regex.search(line)]\n",
    "    else:\n",
    "        # Return a list of booleans indicating matches\n",
    "        return [bool(regex.search(line)) for line in text]"
   ]
  },
  {
   "cell_type": "code",
   "execution_count": 92,
   "metadata": {},
   "outputs": [],
   "source": [
    "## or, if you put 'greppy.py' in your working directory\n",
    "from greppy import grep"
   ]
  },
  {
   "cell_type": "code",
   "execution_count": 89,
   "metadata": {},
   "outputs": [
    {
     "name": "stdout",
     "output_type": "stream",
     "text": [
      "['ford galaxie 500', 'ford maverick', 'ford f250', 'ford pinto', 'ford torino 500', 'ford galaxie 500', 'ford country squire (sw)', 'ford mustang', 'ford pinto runabout']\n"
     ]
    }
   ],
   "source": [
    "matches = grep(\"ford\", mpg['name'], values = True)\n",
    "print(matches[1:10])"
   ]
  },
  {
   "cell_type": "markdown",
   "metadata": {},
   "source": [
    "<hr style=\"border: none; border-top: 1px solid #f8f9fa; max-width: 950px;\">"
   ]
  },
  {
   "cell_type": "markdown",
   "metadata": {},
   "source": [
    "#### Filter Rows by Pattern\n",
    "\n",
    "If we wanted to look for the mpg information on all cars of make 'ford', we can filter for rows where the 'name' contains 'ford'"
   ]
  },
  {
   "cell_type": "code",
   "execution_count": 63,
   "metadata": {},
   "outputs": [
    {
     "name": "stdout",
     "output_type": "stream",
     "text": [
      "     mpg  cylinders  displacement  horsepower  weight  acceleration  \\\n",
      "4   17.0          8         302.0       140.0    3449          10.5   \n",
      "5   15.0          8         429.0       198.0    4341          10.0   \n",
      "17  21.0          6         200.0        85.0    2587          16.0   \n",
      "25  10.0          8         360.0       215.0    4615          14.0   \n",
      "32  25.0          4          98.0         NaN    2046          19.0   \n",
      "\n",
      "    model_year origin              name  \n",
      "4           70    usa       ford torino  \n",
      "5           70    usa  ford galaxie 500  \n",
      "17          70    usa     ford maverick  \n",
      "25          70    usa         ford f250  \n",
      "32          71    usa        ford pinto  \n"
     ]
    }
   ],
   "source": [
    "filtered_rows = mpg[mpg['name'].apply(lambda x: bool(re.search('ford', x)))]\n",
    "print(filtered_rows.head())"
   ]
  },
  {
   "cell_type": "markdown",
   "metadata": {},
   "source": [
    "#### OR"
   ]
  },
  {
   "cell_type": "code",
   "execution_count": 66,
   "metadata": {},
   "outputs": [
    {
     "name": "stdout",
     "output_type": "stream",
     "text": [
      "     mpg  cylinders  displacement  horsepower  weight  acceleration  \\\n",
      "4   17.0          8         302.0       140.0    3449          10.5   \n",
      "5   15.0          8         429.0       198.0    4341          10.0   \n",
      "17  21.0          6         200.0        85.0    2587          16.0   \n",
      "25  10.0          8         360.0       215.0    4615          14.0   \n",
      "32  25.0          4          98.0         NaN    2046          19.0   \n",
      "\n",
      "    model_year origin              name  \n",
      "4           70    usa       ford torino  \n",
      "5           70    usa  ford galaxie 500  \n",
      "17          70    usa     ford maverick  \n",
      "25          70    usa         ford f250  \n",
      "32          71    usa        ford pinto  \n"
     ]
    }
   ],
   "source": [
    "filtered_rows = mpg[grep(\"ford\", mpg['name'], values = False)]\n",
    "print(filtered_rows.head())"
   ]
  },
  {
   "cell_type": "markdown",
   "metadata": {},
   "source": [
    "<hr style=\"border: none; border-top: 2px solid #007bff; width: 100%; margin-top: 20px; margin-bottom: 20px;\">"
   ]
  },
  {
   "cell_type": "markdown",
   "metadata": {},
   "source": [
    "## 2. Substituting Values using re.sub()\n",
    "\n",
    "re.sub works like gsub to substitute values. For example, if we want to replace \"usa\" with \"United States\" in the 'origin' column: "
   ]
  },
  {
   "cell_type": "code",
   "execution_count": 67,
   "metadata": {},
   "outputs": [
    {
     "name": "stdout",
     "output_type": "stream",
     "text": [
      "    mpg  cylinders  displacement  horsepower  weight  acceleration  \\\n",
      "0  18.0          8         307.0       130.0    3504          12.0   \n",
      "1  15.0          8         350.0       165.0    3693          11.5   \n",
      "2  18.0          8         318.0       150.0    3436          11.0   \n",
      "3  16.0          8         304.0       150.0    3433          12.0   \n",
      "4  17.0          8         302.0       140.0    3449          10.5   \n",
      "\n",
      "   model_year         origin                       name  \n",
      "0          70  United States  chevrolet chevelle malibu  \n",
      "1          70  United States          buick skylark 320  \n",
      "2          70  United States         plymouth satellite  \n",
      "3          70  United States              amc rebel sst  \n",
      "4          70  United States                ford torino  \n"
     ]
    }
   ],
   "source": [
    "# Replace 'usa' with 'United States' in the 'origin' column\n",
    "mpg['origin'] = mpg['origin'].apply(lambda x: re.sub('usa', 'United States', x))\n",
    "print(mpg.head())\n"
   ]
  },
  {
   "cell_type": "markdown",
   "metadata": {},
   "source": [
    "<hr style=\"border: none; border-top: 2px solid #007bff; width: 100%; margin-top: 20px; margin-bottom: 20px;\">\n",
    "\n",
    "## 3. Extracting words with re.findall()\n",
    "\n",
    "If we want to extract all words starting with 'chev' from the name column and put them in another column, we can use `re.findall()`."
   ]
  },
  {
   "cell_type": "code",
   "execution_count": 78,
   "metadata": {},
   "outputs": [
    {
     "name": "stdout",
     "output_type": "stream",
     "text": [
      "                        name           name_matches\n",
      "0  chevrolet chevelle malibu  [chevrolet, chevelle]\n",
      "1          buick skylark 320                     []\n",
      "2         plymouth satellite                     []\n",
      "3              amc rebel sst                     []\n",
      "4                ford torino                     []\n"
     ]
    }
   ],
   "source": [
    "# Extract all words starting with 'chev' in the 'name' column\n",
    "mpg['chev'] = mpg['name'].apply(lambda x: re.findall(r'\\bchev\\w*', x))\n",
    "print(mpg[['name', 'name_matches']].head())"
   ]
  },
  {
   "cell_type": "markdown",
   "metadata": {},
   "source": [
    "\n",
    "<strong><span style=\"color: #002569; font-size: 30px; font-weight: bold;\">How did we get \" </span><span style=\"color: #0074e0; font-size: 30px; font-weight: bold;\">r</span><span style=\"color: red; font-size: 30px; font-weight: bold;\">'\\\\b</span><span style=\"color: purple; font-size: 30px; font-weight: bold;\">chev</span><span style=\"color: darkgreen; font-size: 30px; font-weight: bold;\">\\\\w</span><span style=\"color: orange; font-size: 30px; font-weight: bold;\">*\\*'*</span><span style=\"color: #002569; font-size: 30px; font-weight: bold;\"> \" ?</span></strong>\n",
    " \n",
    "<span style=\"color: #0074e0; font-size:20px;font-weight: bold;\">1. **r - Raw String** </span>   \n",
    "The r before the string indicates a raw string in Python. This tells Python not to treat backslashes (\\) as escape characters.  \n",
    "For example, in a regular string, \\n represents a newline. In a raw string (r\"\\n\"), it is treated literally as backslash followed by n.\n",
    "Without the r, the regex would need to be written as '\\\\bchev\\\\w*'.  \n",
    "\n",
    "<span style=\"color: red; font-size:20px;font-weight: bold;\">2. **\\b - Word Boundary**</span>  \n",
    "\\b matches a word boundary, which is the position between a word character (letters, digits, or underscore: [a-zA-Z0-9_]) and a non-word character.  \n",
    "It ensures the match starts at the beginning of a word.  \n",
    "Examples:  \n",
    "In \"chevrolet\", \\bchev matches because \"chev\" is at the beginning of the word.  \n",
    "In \"123chev\", \\bchev does not match because \"chev\" is not preceded by a word boundary.  \n",
    "In \"superchev\", \\bchev does not match because \"chev\" is in the middle of a word.  \n",
    "\n",
    "<span style=\"color: purple; font-size:20px;font-weight: bold;\">3. **chev - Literal Characters**</span>  \n",
    "The sequence chev matches the literal string \"chev\".  \n",
    "This part ensures the regex is looking specifically for words that begin with \"chev\".  \n",
    "\n",
    "<span style=\"color: darkgreen; font-size:20px;font-weight: bold;\">4. **\\w - Word Character**</span>  \n",
    "\\w matches any word character, which includes:  \n",
    "Letters (a-z, A-Z)  \n",
    "Digits (0-9)  \n",
    "Underscore (_)  \n",
    "This ensures the regex continues matching after \"chev\" if there are valid word characters.      \n",
    "\n",
    "<span style=\"color: orange; font-size:20px;font-weight: bold;\">5. **\\* - Zero or More**</span>    \n",
    "\\* is a quantifier that matches zero or more of the preceding character or group.  \n",
    "In this case, \\w* means \"match zero or more word characters after 'chev'\".\n",
    "This allows the regex to match \"chev\" alone or \"chevrolet\", \"chevalier\", etc.  \n",
    "\n",
    "For more information on regular expression symbols, see <a href=\"https://www.pythoncheatsheet.org/cheatsheet/regular-expressions\">the regular expressions cheatsheet</a>.\n"
   ]
  },
  {
   "cell_type": "markdown",
   "metadata": {},
   "source": [
    "<hr style=\"border: none; border-top: 1px solid #f8f9fa; max-width: 950px;\">\n"
   ]
  },
  {
   "cell_type": "markdown",
   "metadata": {},
   "source": [
    "### We can also use expressions like this in our grep function\n",
    "\n",
    "If we want to get all names beginning with 'chev', we can..."
   ]
  },
  {
   "cell_type": "code",
   "execution_count": 81,
   "metadata": {},
   "outputs": [
    {
     "data": {
      "text/plain": [
       "['chevrolet impala',\n",
       " 'chevrolet monte carlo',\n",
       " 'chevy c20',\n",
       " 'chevrolet vega 2300',\n",
       " 'chevrolet chevelle malibu',\n",
       " 'chevrolet impala',\n",
       " 'chevrolet vega (sw)',\n",
       " 'chevrolet vega',\n",
       " 'chevrolet impala']"
      ]
     },
     "execution_count": 81,
     "metadata": {},
     "output_type": "execute_result"
    }
   ],
   "source": [
    "grep(r'\\bchev\\w*', mpg['name'], values = True)[1:10]"
   ]
  },
  {
   "cell_type": "markdown",
   "metadata": {},
   "source": [
    "<hr style=\"border: none; border-top: 2px solid #007bff; width: 100%; margin-top: 20px; margin-bottom: 20px;\">\n",
    "\n",
    "## 4. Splitting Strings with re.split()\n",
    "\n",
    "If we want to split the 'name' column into separate words, we can use `re.split()`."
   ]
  },
  {
   "cell_type": "code",
   "execution_count": 82,
   "metadata": {},
   "outputs": [
    {
     "name": "stdout",
     "output_type": "stream",
     "text": [
      "                        name                     name_split\n",
      "0  chevrolet chevelle malibu  [chevrolet, chevelle, malibu]\n",
      "1          buick skylark 320          [buick, skylark, 320]\n",
      "2         plymouth satellite          [plymouth, satellite]\n",
      "3              amc rebel sst              [amc, rebel, sst]\n",
      "4                ford torino                 [ford, torino]\n"
     ]
    }
   ],
   "source": [
    "# Split 'name' into separate words\n",
    "mpg['name_split'] = mpg['name'].apply(lambda x: re.split(r'\\s+', x))\n",
    "print(mpg[['name', 'name_split']].head())\n"
   ]
  },
  {
   "cell_type": "markdown",
   "metadata": {},
   "source": [
    "<hr style=\"border: none; border-top: 2px solid #007bff; width: 100%; margin-top: 20px; margin-bottom: 20px;\">\n",
    "\n",
    "## 5. Add Optional Flags To Ignore Case"
   ]
  },
  {
   "cell_type": "markdown",
   "metadata": {},
   "source": [
    "For case-insensitive matching (ignore.case = TRUE in R):\n",
    "\n"
   ]
  },
  {
   "cell_type": "code",
   "execution_count": 85,
   "metadata": {},
   "outputs": [
    {
     "name": "stdout",
     "output_type": "stream",
     "text": [
      "     mpg  cylinders  displacement  horsepower  weight  acceleration  \\\n",
      "4   17.0          8         302.0       140.0    3449          10.5   \n",
      "5   15.0          8         429.0       198.0    4341          10.0   \n",
      "17  21.0          6         200.0        85.0    2587          16.0   \n",
      "25  10.0          8         360.0       215.0    4615          14.0   \n",
      "32  25.0          4          98.0         NaN    2046          19.0   \n",
      "\n",
      "    model_year         origin              name name_matches chev  \\\n",
      "4           70  United States       ford torino           []   []   \n",
      "5           70  United States  ford galaxie 500           []   []   \n",
      "17          70  United States     ford maverick           []   []   \n",
      "25          70  United States         ford f250           []   []   \n",
      "32          71  United States        ford pinto           []   []   \n",
      "\n",
      "              name_split  \n",
      "4         [ford, torino]  \n",
      "5   [ford, galaxie, 500]  \n",
      "17      [ford, maverick]  \n",
      "25          [ford, f250]  \n",
      "32         [ford, pinto]  \n"
     ]
    }
   ],
   "source": [
    "filtered_rows = mpg[mpg['name'].apply(lambda x: bool(re.search('FORD', x, re.IGNORECASE)))]\n",
    "print(filtered_rows.head())\n"
   ]
  },
  {
   "cell_type": "markdown",
   "metadata": {},
   "source": [
    "#### OR"
   ]
  },
  {
   "cell_type": "code",
   "execution_count": 94,
   "metadata": {},
   "outputs": [
    {
     "name": "stdout",
     "output_type": "stream",
     "text": [
      "     mpg  cylinders  displacement  horsepower  weight  acceleration  \\\n",
      "4   17.0          8         302.0       140.0    3449          10.5   \n",
      "5   15.0          8         429.0       198.0    4341          10.0   \n",
      "17  21.0          6         200.0        85.0    2587          16.0   \n",
      "25  10.0          8         360.0       215.0    4615          14.0   \n",
      "32  25.0          4          98.0         NaN    2046          19.0   \n",
      "\n",
      "    model_year         origin              name name_matches chev  \\\n",
      "4           70  United States       ford torino           []   []   \n",
      "5           70  United States  ford galaxie 500           []   []   \n",
      "17          70  United States     ford maverick           []   []   \n",
      "25          70  United States         ford f250           []   []   \n",
      "32          71  United States        ford pinto           []   []   \n",
      "\n",
      "              name_split  \n",
      "4         [ford, torino]  \n",
      "5   [ford, galaxie, 500]  \n",
      "17      [ford, maverick]  \n",
      "25          [ford, f250]  \n",
      "32         [ford, pinto]  \n"
     ]
    }
   ],
   "source": [
    "filtered_rows = mpg[grep('FORD', mpg['name'], ignore_case = True)]\n",
    "print(filtered_rows.head())"
   ]
  }
 ],
 "metadata": {
  "kernelspec": {
   "display_name": "python-intro-env",
   "language": "python",
   "name": "python3"
  },
  "language_info": {
   "codemirror_mode": {
    "name": "ipython",
    "version": 3
   },
   "file_extension": ".py",
   "mimetype": "text/x-python",
   "name": "python",
   "nbconvert_exporter": "python",
   "pygments_lexer": "ipython3",
   "version": "3.10.15"
  }
 },
 "nbformat": 4,
 "nbformat_minor": 2
}
