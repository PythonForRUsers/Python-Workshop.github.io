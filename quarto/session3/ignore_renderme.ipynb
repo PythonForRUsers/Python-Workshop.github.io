{
 "cells": [
  {
   "cell_type": "markdown",
   "metadata": {},
   "source": [
    "## HAHAHAHAHAHAHAHAH\n",
    "\n",
    "I will be rendered!!\n"
   ]
  },
  {
   "cell_type": "code",
   "execution_count": null,
   "metadata": {},
   "outputs": [],
   "source": [
    "print(\"RENDER ME!\")"
   ]
  },
  {
   "cell_type": "markdown",
   "metadata": {},
   "source": [
    "### We can put html in jupyter markdown chunks???\n",
    "\n",
    "<details>\n",
    "<summary> Refresher: How to activate conda environment </summary>\n",
    "<div style=\"sp\"></div>\n",
    "From terminal, type: \n",
    "  \n",
    "<div class=\"terminal\">\n",
    "\\> conda activate ENVNAME\n",
    "</div>\n",
    "  <div style=\"margin: 10px 0;\"></div>\n",
    "When in VS code, you might get a popup message like the one below, confirming that the environment was activated:  \n",
    "\n",
    "<div style=\"border-left: 4px solid #007bff; background-color: #f8f9fa; padding: 5px; margin: 5px 0;\">\n",
    "Selected conda environment was successfully activated, even though \"(ENVNAME)\" indicator may not be present in the terminal prompt. \n",
    "</div>\n",
    "</details>"
   ]
  }
 ],
 "metadata": {
  "kernelspec": {
   "display_name": "pyWsEnv",
   "language": "python",
   "name": "python3"
  },
  "language_info": {
   "name": "python",
   "version": "3.8.20"
  }
 },
 "nbformat": 4,
 "nbformat_minor": 2
}
