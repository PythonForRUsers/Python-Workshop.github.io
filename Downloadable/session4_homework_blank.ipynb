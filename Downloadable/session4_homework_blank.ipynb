{
 "cells": [
  {
   "cell_type": "markdown",
   "metadata": {},
   "source": [
    "# Session 4 Homework\n",
    "\n",
    "This homework covers defining and working with classes, and using scikit-learn models in python. "
   ]
  },
  {
   "cell_type": "markdown",
   "metadata": {},
   "source": [
    "## Part A - Classes and Inheritence\n",
    "\n",
    "Using the `Animal` base class below as a starting point...\n",
    "1. Create as `Speech` mixin that allows the animal to: \n",
    "    - Select one of the learned sounds to use when .speak() is called (without modifying .speak() in Animal).\n",
    "    - Add a .repeat() method that takes a string input and returns it in the form:\n",
    "        \"{animal_name} says: {input_string}\"\n",
    "2. Using the `Animal` base class and the `Speech` mixin, create a `Parrot` class. \n",
    "    \n",
    "**Bonus**: Add __str__() and __repr__() methods to your Parrot class so that:\n",
    "- Print(parrot) shows the parrot’s name and current sound. \n",
    "- Calling the object in the console shows its name and the list of learned sounds.\n",
    "\n",
    ">Hint: It may be helpful to have a sound list!"
   ]
  },
  {
   "cell_type": "code",
   "execution_count": null,
   "metadata": {
    "vscode": {
     "languageId": "python"
    }
   },
   "outputs": [],
   "source": [
    "## Animal base class\n",
    "class Animal: ## class definition\n",
    "    def __init__(self, name, breed, sound):\n",
    "        self.name = name\n",
    "        self.breed = breed\n",
    "        self.sound = sound\n",
    "    \n",
    "    def speak(self): \n",
    "        return f\"{self.name} says {self.sound}!\""
   ]
  },
  {
   "cell_type": "code",
   "execution_count": null,
   "metadata": {
    "vscode": {
     "languageId": "python"
    }
   },
   "outputs": [],
   "source": [
    "## Create `Speech` mixin\n",
    "class Speech: ## mixin that adds behaviors to animal class\n",
    "    def __init__(self, *args, **kwargs):\n",
    "        super().__init__(*args, **kwargs)\n",
    "        self.??? ## use this as a base to add your own attributes\n",
    "    \n",
    "    def learn_sound(self): ## use this as a base to create your 'learn_sound' method\n",
    "\n"
   ]
  },
  {
   "cell_type": "code",
   "execution_count": null,
   "metadata": {
    "vscode": {
     "languageId": "python"
    }
   },
   "outputs": [],
   "source": [
    "## Create Parrot Class: \n",
    "class Parrot(???):\n",
    "    def __init__(???) ## add arguments here as needed\n",
    "        super().__init__(???) ## initialize Animal \n",
    "        Speech.__init__(self) ## initialize Speech"
   ]
  },
  {
   "cell_type": "markdown",
   "metadata": {},
   "source": [
    "3. Create an instance of `Parrot`  \n",
    "    a: Teach it the following:  \n",
    "        - \"Hello!\"  \n",
    "        - \"{name} wants a cracker!  \n",
    "    b: Change the sound used in `.speak()` to either of the learned sounds.   \n",
    "    c: Have the parrot repeat a string of your choice.   "
   ]
  },
  {
   "cell_type": "code",
   "execution_count": null,
   "metadata": {
    "vscode": {
     "languageId": "python"
    }
   },
   "outputs": [],
   "source": []
  },
  {
   "cell_type": "markdown",
   "metadata": {},
   "source": [
    "## Part B - Using Machine Learning Modules\n",
    "\n",
    "1. Using the sklearn documentation as a reference (https://scikit-learn.org/stable/user_guide.html), pick a model not shown in the demo and use it to either cluster or classify the irises from the iris dataset. \n",
    "    - Scale the data using StandardScalar \n",
    "    - If classifying split into train/test data\n",
    "2. Create a figure showing the results of the clustering/classification. *The scikit-learn documentation may be helpful here!*\n",
    "\n",
    ">Note: The answer key is made for decision tree (classification) and hierarchical (agglomerative) clustering! "
   ]
  },
  {
   "cell_type": "markdown",
   "metadata": {},
   "source": [
    "### Data Setup"
   ]
  },
  {
   "cell_type": "code",
   "execution_count": 8,
   "metadata": {
    "vscode": {
     "languageId": "python"
    }
   },
   "outputs": [
    {
     "name": "stdout",
     "output_type": "stream",
     "text": [
      "Predictors:  [[5.1 3.5 1.4 0.2]\n",
      " [4.9 3.  1.4 0.2]\n",
      " [4.7 3.2 1.3 0.2]\n",
      " [4.6 3.1 1.5 0.2]\n",
      " [5.  3.6 1.4 0.2]] \n",
      "Targets [0 0 0 0 0]\n"
     ]
    },
    {
     "name": "stderr",
     "output_type": "stream",
     "text": [
      "<positron-console-cell-8>:20: FutureWarning: The default of observed=False is deprecated and will be changed to True in a future version of pandas. Pass observed=False to retain current behavior or observed=True to adopt the future default and silence this warning.\n"
     ]
    },
    {
     "data": {
      "text/html": [
       "<div>\n",
       "<style scoped>\n",
       "    .dataframe tbody tr th:only-of-type {\n",
       "        vertical-align: middle;\n",
       "    }\n",
       "\n",
       "    .dataframe tbody tr th {\n",
       "        vertical-align: top;\n",
       "    }\n",
       "\n",
       "    .dataframe thead tr th {\n",
       "        text-align: left;\n",
       "    }\n",
       "\n",
       "    .dataframe thead tr:last-of-type th {\n",
       "        text-align: right;\n",
       "    }\n",
       "</style>\n",
       "<table border=\"1\" class=\"dataframe\">\n",
       "  <thead>\n",
       "    <tr>\n",
       "      <th></th>\n",
       "      <th colspan=\"4\" halign=\"left\">sepal length (cm)</th>\n",
       "      <th colspan=\"4\" halign=\"left\">sepal width (cm)</th>\n",
       "      <th colspan=\"4\" halign=\"left\">petal length (cm)</th>\n",
       "      <th colspan=\"4\" halign=\"left\">petal width (cm)</th>\n",
       "    </tr>\n",
       "    <tr>\n",
       "      <th></th>\n",
       "      <th>mean</th>\n",
       "      <th>std</th>\n",
       "      <th>min</th>\n",
       "      <th>max</th>\n",
       "      <th>mean</th>\n",
       "      <th>std</th>\n",
       "      <th>min</th>\n",
       "      <th>max</th>\n",
       "      <th>mean</th>\n",
       "      <th>std</th>\n",
       "      <th>min</th>\n",
       "      <th>max</th>\n",
       "      <th>mean</th>\n",
       "      <th>std</th>\n",
       "      <th>min</th>\n",
       "      <th>max</th>\n",
       "    </tr>\n",
       "    <tr>\n",
       "      <th>species</th>\n",
       "      <th></th>\n",
       "      <th></th>\n",
       "      <th></th>\n",
       "      <th></th>\n",
       "      <th></th>\n",
       "      <th></th>\n",
       "      <th></th>\n",
       "      <th></th>\n",
       "      <th></th>\n",
       "      <th></th>\n",
       "      <th></th>\n",
       "      <th></th>\n",
       "      <th></th>\n",
       "      <th></th>\n",
       "      <th></th>\n",
       "      <th></th>\n",
       "    </tr>\n",
       "  </thead>\n",
       "  <tbody>\n",
       "    <tr>\n",
       "      <th>setosa</th>\n",
       "      <td>5.006</td>\n",
       "      <td>0.352490</td>\n",
       "      <td>4.3</td>\n",
       "      <td>5.8</td>\n",
       "      <td>3.428</td>\n",
       "      <td>0.379064</td>\n",
       "      <td>2.3</td>\n",
       "      <td>4.4</td>\n",
       "      <td>1.462</td>\n",
       "      <td>0.173664</td>\n",
       "      <td>1.0</td>\n",
       "      <td>1.9</td>\n",
       "      <td>0.246</td>\n",
       "      <td>0.105386</td>\n",
       "      <td>0.1</td>\n",
       "      <td>0.6</td>\n",
       "    </tr>\n",
       "    <tr>\n",
       "      <th>versicolor</th>\n",
       "      <td>5.936</td>\n",
       "      <td>0.516171</td>\n",
       "      <td>4.9</td>\n",
       "      <td>7.0</td>\n",
       "      <td>2.770</td>\n",
       "      <td>0.313798</td>\n",
       "      <td>2.0</td>\n",
       "      <td>3.4</td>\n",
       "      <td>4.260</td>\n",
       "      <td>0.469911</td>\n",
       "      <td>3.0</td>\n",
       "      <td>5.1</td>\n",
       "      <td>1.326</td>\n",
       "      <td>0.197753</td>\n",
       "      <td>1.0</td>\n",
       "      <td>1.8</td>\n",
       "    </tr>\n",
       "    <tr>\n",
       "      <th>virginica</th>\n",
       "      <td>6.588</td>\n",
       "      <td>0.635880</td>\n",
       "      <td>4.9</td>\n",
       "      <td>7.9</td>\n",
       "      <td>2.974</td>\n",
       "      <td>0.322497</td>\n",
       "      <td>2.2</td>\n",
       "      <td>3.8</td>\n",
       "      <td>5.552</td>\n",
       "      <td>0.551895</td>\n",
       "      <td>4.5</td>\n",
       "      <td>6.9</td>\n",
       "      <td>2.026</td>\n",
       "      <td>0.274650</td>\n",
       "      <td>1.4</td>\n",
       "      <td>2.5</td>\n",
       "    </tr>\n",
       "  </tbody>\n",
       "</table>\n",
       "</div>"
      ],
      "text/plain": [
       "           sepal length (cm)                 ... petal width (cm)          \n",
       "                        mean       std  min  ...              std  min  max\n",
       "species                                      ...                           \n",
       "setosa                 5.006  0.352490  4.3  ...         0.105386  0.1  0.6\n",
       "versicolor             5.936  0.516171  4.9  ...         0.197753  1.0  1.8\n",
       "virginica              6.588  0.635880  4.9  ...         0.274650  1.4  2.5\n",
       "\n",
       "[3 rows x 16 columns]"
      ]
     },
     "metadata": {},
     "output_type": "display_data"
    }
   ],
   "source": [
    "import pandas as pd\n",
    "from sklearn.datasets import load_iris\n",
    "\n",
    "## load the iris dataset\n",
    "iris = load_iris()\n",
    "X, y = iris.data, iris.target ## iris.data = the predictors (in array form), iris.target = the iris species\n",
    "\n",
    "## Check what the data looks like\n",
    "print(\"Predictors: \", X[0:5,], \"\\nTargets\", y[0:5])\n",
    "\n",
    "## note: for the iris dataset, the feature names are stored in iris.feature_names\n",
    "\n",
    "## if you want a pandas dataset: \n",
    "iris_df = pd.DataFrame(data=iris.data, columns=iris.feature_names)\n",
    "\n",
    "# Add the target as a new column\n",
    "iris_df[\"species\"] = pd.Categorical.from_codes(iris.target, iris.target_names)\n",
    "\n",
    "# Create a summary table grouped by species\n",
    "summary_table = iris_df.groupby(\"species\").agg({\n",
    "    \"sepal length (cm)\": [\"mean\", \"std\", \"min\", \"max\"],\n",
    "    \"sepal width (cm)\": [\"mean\", \"std\", \"min\", \"max\"],\n",
    "    \"petal length (cm)\": [\"mean\", \"std\", \"min\", \"max\"],\n",
    "    \"petal width (cm)\": [\"mean\", \"std\", \"min\", \"max\"]\n",
    "})\n",
    "\n",
    "# Display the summary table\n",
    "display(summary_table)\n",
    "\n",
    "\n"
   ]
  }
 ],
 "metadata": {
  "language_info": {
   "name": "plaintext"
  }
 },
 "nbformat": 4,
 "nbformat_minor": 2
}
