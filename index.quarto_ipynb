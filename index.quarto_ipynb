{
  "cells": [
    {
      "cell_type": "markdown",
      "metadata": {},
      "source": [
        "---\n",
        "title: \"Python Workshop: Intro to Python\"\n",
        "author: \"Python Group\"\n",
        "format: \n",
        "  html:\n",
        "    output-file: \"index.html\"\n",
        "    toc: true\n",
        "    code-copy: true\n",
        "    code-line-numbers: true\n",
        "    link-external-icon: false\n",
        "    link-external-newwindow: true\n",
        "    css: styles.css\n",
        "jupyter: python3\n",
        "    \n",
        "---\n",
        "\n",
        "\n",
        "\n",
        "\n",
        "# Welcome to the Intro to Python Workshop\n",
        "\n",
        "Explain what the website is and how to use it!\n",
        "\n",
        "## Here is a lvl 2 heading\n",
        "\n",
        "Maybe here we can put links to the different workshops. "
      ],
      "id": "1f5c1751"
    }
  ],
  "metadata": {
    "kernelspec": {
      "display_name": "Python 3",
      "language": "python",
      "name": "python3"
    }
  },
  "nbformat": 4,
  "nbformat_minor": 5
}